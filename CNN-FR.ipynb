{
 "cells": [
  {
   "cell_type": "markdown",
   "metadata": {},
   "source": [
    "# Reconhecimento Facial utilizando CNN na base LFW\n",
    "Trabalho de reconhecimento facial utilizando a base de Dados LFW (Labeled Faces in the Wild) http://vis-www.cs.umass.edu/lfw/lfw.pdf\n",
    "\n",
    "Esta base possui 13233 imagens faciais de celebridades coletadas na web"
   ]
  },
  {
   "cell_type": "code",
   "execution_count": 2,
   "metadata": {},
   "outputs": [
    {
     "name": "stderr",
     "output_type": "stream",
     "text": [
      "Using TensorFlow backend.\n"
     ]
    }
   ],
   "source": [
    "#imports\n",
    "import os\n",
    "import pandas as pd\n",
    "import numpy as np\n",
    "from collections import OrderedDict\n",
    "# visualizazao\n",
    "import matplotlib.pyplot as plt\n",
    "from PIL import Image\n",
    "import matplotlib.patches as patches\n",
    "# CNN\n",
    "import keras\n",
    "from sklearn.model_selection import train_test_split\n",
    "# Mover arquivos\n",
    "import shutil\n",
    "from shutil import unpack_archive\n",
    "from subprocess import check_output"
   ]
  },
  {
   "cell_type": "code",
   "execution_count": 5,
   "metadata": {},
   "outputs": [],
   "source": [
    "#base de dados\n",
    "from sklearn.datasets import fetch_lfw_pairs"
   ]
  },
  {
   "cell_type": "code",
   "execution_count": 6,
   "metadata": {},
   "outputs": [
    {
     "name": "stderr",
     "output_type": "stream",
     "text": [
      "Downloading LFW metadata: https://ndownloader.figshare.com/files/5976012\n",
      "Downloading LFW metadata: https://ndownloader.figshare.com/files/5976009\n",
      "Downloading LFW metadata: https://ndownloader.figshare.com/files/5976006\n",
      "Downloading LFW data (~200MB): https://ndownloader.figshare.com/files/5976015\n"
     ]
    }
   ],
   "source": [
    "lfw_pairs_train = fetch_lfw_pairs(subset='train')"
   ]
  },
  {
   "cell_type": "code",
   "execution_count": 9,
   "metadata": {},
   "outputs": [
    {
     "data": {
      "text/plain": [
       "['DESCR', 'data', 'pairs', 'target', 'target_names']"
      ]
     },
     "execution_count": 9,
     "metadata": {},
     "output_type": "execute_result"
    }
   ],
   "source": [
    "dir(lfw_pairs_train)"
   ]
  },
  {
   "cell_type": "code",
   "execution_count": 11,
   "metadata": {},
   "outputs": [
    {
     "data": {
      "text/plain": [
       "array([[ 73.666664,  70.666664,  81.666664, ..., 225.66667 , 229.66667 ,\n",
       "        233.33333 ],\n",
       "       [ 86.333336, 113.333336, 133.33333 , ..., 106.      , 114.333336,\n",
       "        122.333336],\n",
       "       [ 37.333332,  35.333332,  34.      , ...,  51.333332,  52.333332,\n",
       "         52.      ],\n",
       "       ...,\n",
       "       [ 73.      ,  94.333336, 121.333336, ...,  64.      ,  71.      ,\n",
       "         82.333336],\n",
       "       [119.      , 110.333336, 112.666664, ..., 145.33333 , 130.      ,\n",
       "        102.333336],\n",
       "       [ 23.333334,  20.      ,  23.333334, ..., 146.33333 , 151.      ,\n",
       "        159.      ]], dtype=float32)"
      ]
     },
     "execution_count": 11,
     "metadata": {},
     "output_type": "execute_result"
    }
   ],
   "source": [
    "lfw_pairs_train.data"
   ]
  },
  {
   "cell_type": "code",
   "execution_count": null,
   "metadata": {},
   "outputs": [],
   "source": []
  }
 ],
 "metadata": {
  "kernelspec": {
   "display_name": "Python 3",
   "language": "python",
   "name": "python3"
  },
  "language_info": {
   "codemirror_mode": {
    "name": "ipython",
    "version": 3
   },
   "file_extension": ".py",
   "mimetype": "text/x-python",
   "name": "python",
   "nbconvert_exporter": "python",
   "pygments_lexer": "ipython3",
   "version": "3.7.4"
  }
 },
 "nbformat": 4,
 "nbformat_minor": 2
}
